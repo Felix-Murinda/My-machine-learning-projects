{
 "cells": [
  {
   "cell_type": "code",
   "execution_count": 2,
   "metadata": {},
   "outputs": [],
   "source": [
    "import math\n",
    "from math import *\n",
    "\n",
    "def density(Ma,P,R,T):\n",
    "    R= 10.7\n",
    "    rho= float((Ma*P)/(R*T))\n",
    "   \n",
    "    return rho\n",
    "\n",
    "def specificvolume(rho):\n",
    "    Vs= float(1/rho)\n",
    "    return Vs\n",
    "\n",
    "\n",
    "def volumefactor(Z,T,P):\n",
    "    Bg= float(0.02879*((Z*T)/P))\n",
    "    return Bg\n",
    "\n",
    "def expansionfactor(Bg):\n",
    "    Eg= float(1/Bg)\n",
    "    return Eg\n",
    "\n",
    "def reducedtemperature(T,Tc):\n",
    "    Tr= float(T/Tc)\n",
    "    return Tr\n",
    "\n",
    "def reducedpressure(P,Pc):\n",
    "    Pr= float(P/Pc)\n",
    "    return Pr"
   ]
  },
  {
   "cell_type": "code",
   "execution_count": null,
   "metadata": {},
   "outputs": [],
   "source": []
  },
  {
   "cell_type": "code",
   "execution_count": null,
   "metadata": {},
   "outputs": [],
   "source": []
  },
  {
   "cell_type": "code",
   "execution_count": null,
   "metadata": {},
   "outputs": [],
   "source": []
  }
 ],
 "metadata": {
  "kernelspec": {
   "display_name": "Python 3 (ipykernel)",
   "language": "python",
   "name": "python3"
  },
  "language_info": {
   "codemirror_mode": {
    "name": "ipython",
    "version": 3
   },
   "file_extension": ".py",
   "mimetype": "text/x-python",
   "name": "python",
   "nbconvert_exporter": "python",
   "pygments_lexer": "ipython3",
   "version": "3.7.13"
  }
 },
 "nbformat": 4,
 "nbformat_minor": 4
}
