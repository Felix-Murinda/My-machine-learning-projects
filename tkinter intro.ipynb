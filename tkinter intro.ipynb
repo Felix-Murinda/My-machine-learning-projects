{
 "cells": [
  {
   "cell_type": "code",
   "execution_count": null,
   "metadata": {},
   "outputs": [],
   "source": []
  },
  {
   "cell_type": "code",
   "execution_count": null,
   "metadata": {},
   "outputs": [],
   "source": []
  },
  {
   "cell_type": "code",
   "execution_count": null,
   "metadata": {},
   "outputs": [],
   "source": []
  },
  {
   "cell_type": "code",
   "execution_count": 36,
   "metadata": {},
   "outputs": [],
   "source": [
    "from tkinter import *\n",
    "\n",
    "window = Tk()\n",
    "window.title(\"F PVT CALCULATOR\")\n",
    "l1 = Label(window,text =\"pressure\")\n",
    "l1.grid(row=0, column=0)\n",
    "\n",
    "l2 = Label(window,text =\"temperature\")\n",
    "l2.grid(row=0, column=2)\n",
    "\n",
    "l3 = Label(window,text =\"specific gravity\")\n",
    "l3.grid(row=1, column=2)\n",
    "\n",
    "l4 = Label(window,text =\"oil density\")\n",
    "l4.grid(row=1, column=0)\n",
    "\n",
    "pressure_text = StringVar()\n",
    "e1=Entry(window,textvariable=pressure_text)\n",
    "e1.grid(row=0, column=1)\n",
    "\n",
    "temperature_text = StringVar()\n",
    "e2=Entry(window,textvariable=temperature_text)\n",
    "e2.grid(row=0, column=3)\n",
    "\n",
    "specificgravity_text = StringVar()\n",
    "e3=Entry(window,textvariable=specificgravity_text)\n",
    "e3.grid(row=1, column=1)\n",
    "\n",
    "oildensity_text = StringVar()\n",
    "e4=Entry(window,textvariable=oildensity_text)\n",
    "e4.grid(row=1, column=3)\n",
    "\n",
    "b1=Button(window,text = \"calculate bubble point\")#height=10, width=10)\n",
    "b1.grid(row=2, column=0)\n",
    "\n",
    "b2=Button(window,text = \"calculate gas solubility\")#height=10, width=10)\n",
    "b2.grid(row=3, column=0)\n",
    "\n",
    "b3=Button(window,text = \"calculate FVF\")#height=10, width=10)\n",
    "b3.grid(row=4, column=0)\n",
    "\n",
    "b4=Button(window,text = \"close\")#height=10, width=10)\n",
    "b4.grid(row=5, column=0)\n",
    "\n",
    "list1= Listbox(window,height=10,width=10)\n",
    "list1.grid(row=3,column=2, rowspan=3, columnspan=3)\n",
    "\n",
    "window.mainloop()"
   ]
  },
  {
   "cell_type": "code",
   "execution_count": null,
   "metadata": {},
   "outputs": [],
   "source": []
  },
  {
   "cell_type": "code",
   "execution_count": null,
   "metadata": {},
   "outputs": [],
   "source": []
  },
  {
   "cell_type": "code",
   "execution_count": null,
   "metadata": {},
   "outputs": [],
   "source": []
  },
  {
   "cell_type": "code",
   "execution_count": null,
   "metadata": {},
   "outputs": [],
   "source": []
  },
  {
   "cell_type": "code",
   "execution_count": null,
   "metadata": {},
   "outputs": [],
   "source": []
  }
 ],
 "metadata": {
  "kernelspec": {
   "display_name": "Python 3",
   "language": "python",
   "name": "python3"
  },
  "language_info": {
   "codemirror_mode": {
    "name": "ipython",
    "version": 3
   },
   "file_extension": ".py",
   "mimetype": "text/x-python",
   "name": "python",
   "nbconvert_exporter": "python",
   "pygments_lexer": "ipython3",
   "version": "3.8.3"
  }
 },
 "nbformat": 4,
 "nbformat_minor": 4
}
